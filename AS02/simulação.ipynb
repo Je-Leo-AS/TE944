{
 "cells": [
  {
   "cell_type": "code",
   "execution_count": 1,
   "metadata": {},
   "outputs": [
    {
     "ename": "ModuleNotFoundError",
     "evalue": "No module named 'pyrobotics'",
     "output_type": "error",
     "traceback": [
      "\u001b[1;31m---------------------------------------------------------------------------\u001b[0m",
      "\u001b[1;31mModuleNotFoundError\u001b[0m                       Traceback (most recent call last)",
      "Cell \u001b[1;32mIn[1], line 3\u001b[0m\n\u001b[0;32m      1\u001b[0m \u001b[39mimport\u001b[39;00m \u001b[39mmath\u001b[39;00m\n\u001b[0;32m      2\u001b[0m \u001b[39mimport\u001b[39;00m \u001b[39mnumpy\u001b[39;00m \u001b[39mas\u001b[39;00m \u001b[39mnp\u001b[39;00m\n\u001b[1;32m----> 3\u001b[0m \u001b[39mfrom\u001b[39;00m \u001b[39mpyrobotics\u001b[39;00m\u001b[39m.\u001b[39;00m\u001b[39mrobot\u001b[39;00m \u001b[39mimport\u001b[39;00m Robot\n\u001b[0;32m      4\u001b[0m \u001b[39mfrom\u001b[39;00m \u001b[39mpyrobotics\u001b[39;00m\u001b[39m.\u001b[39;00m\u001b[39mkinematics\u001b[39;00m \u001b[39mimport\u001b[39;00m UnicycleKinematics, DifferentialDriveKinematics, BicycleKinematics\n\u001b[0;32m      6\u001b[0m \u001b[39m# Criação de robôs com diferentes modelos de cinemática\u001b[39;00m\n",
      "\u001b[1;31mModuleNotFoundError\u001b[0m: No module named 'pyrobotics'"
     ]
    }
   ],
   "source": [
    "import math\n",
    "import numpy as np\n",
    "from pyrobotics.robot import Robot\n",
    "from pyrobotics.kinematics import UnicycleKinematics, DifferentialDriveKinematics, BicycleKinematics\n",
    "\n",
    "# Criação de robôs com diferentes modelos de cinemática\n",
    "unicycle = Robot(kinematics=UnicycleKinematics())\n",
    "diffDrive = Robot(kinematics=DifferentialDriveKinematics(wheel_distance=0.2), wheel_speed_range=[-10*math.pi, 10*math.pi])\n",
    "bicycle = Robot(kinematics=BicycleKinematics(max_steering_angle=math.pi/8))\n",
    "\n",
    "# Definição de trajetórias para cada robô\n",
    "t = np.linspace(0, 10, 1000)\n",
    "x_traj = np.sin(t)\n",
    "y_traj = np.cos(2*t)\n",
    "\n",
    "# Execução da trajetória para cada robô\n",
    "for robot in [unicycle, diffDrive, bicycle]:\n",
    "    robot.set_pose(0, 0, 0)\n",
    "    robot.set_control(0, 0)\n",
    "    robot_trajectory = []\n",
    "    for i in range(len(t)):\n",
    "        x, y, theta = robot.get_pose()\n",
    "        x_desired, y_desired = x_traj[i], y_traj[i]\n",
    "        distance = math.sqrt((x_desired-x)**2 + (y_desired-y)**2)\n",
    "        heading_desired = math.atan2(y_desired-y, x_desired-x)\n",
    "        heading_error = heading_desired - theta\n",
    "        speed = 1\n",
    "        omega = heading_error\n",
    "        robot.set_control(speed, omega)\n",
    "        robot.move(0.1)\n",
    "        robot_trajectory.append(robot.get_pose())\n",
    "    robot_trajectory = np.array(robot_trajectory)\n",
    "\n",
    "    # Plot da trajetória resultante\n",
    "    import matplotlib.pyplot as plt\n",
    "    plt.plot(x_traj, y_traj, label='Trajectory')\n",
    "    plt.plot(robot_trajectory[:, 0], robot_trajectory[:, 1], label='Robot path')\n",
    "    plt.legend()\n",
    "    plt.show()\n"
   ]
  }
 ],
 "metadata": {
  "kernelspec": {
   "display_name": "Python 3",
   "language": "python",
   "name": "python3"
  },
  "language_info": {
   "codemirror_mode": {
    "name": "ipython",
    "version": 3
   },
   "file_extension": ".py",
   "mimetype": "text/x-python",
   "name": "python",
   "nbconvert_exporter": "python",
   "pygments_lexer": "ipython3",
   "version": "2.7.18"
  },
  "orig_nbformat": 4
 },
 "nbformat": 4,
 "nbformat_minor": 2
}
